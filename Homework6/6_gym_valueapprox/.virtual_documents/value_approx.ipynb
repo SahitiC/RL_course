import numpy as np
import gymnasium as gym
import torch

from mpl_toolkits.mplot3d import Axes3D
from matplotlib import cm
import matplotlib.pyplot as plt
# The "ipympl" backend is better, as it allows for interactiveness, but on some installations it does not work, then use "inline"
%matplotlib ipympl
# %matplotlib inline  

# this way of importing allow to reload/refresh the module later with importlib.reload(policy)
import policy as policy 
import memory as mem
from feedforward import Feedforward





env = gym.make('Pendulum-v1', g=9.81, render_mode="human")
pi = policy.PDPolicy(env)
buffer = mem.Memory()





s , _ = env.reset()
for t in range(100):
    a = pi.get_action(s) 
    s_new, rew, term, trunc, _ = env.step(a)
    buffer.add_transition([s,a,rew,s_new, term, trunc])
    s = s_new


transitions = buffer.get_all_transitions()
states = np.vstack(transitions[:,0])
actions = transitions[:,1]
rewards = transitions[:,2]





plt.figure(figsize=(5,3))
plt.plot(states[:, 0])
plt.ylabel('x-position')

plt.figure(figsize=(5,3))
plt.plot(states[:, 1], color='tab:orange')
plt.ylabel('y-position')

plt.figure(figsize=(5,3))
plt.plot(states[:, 2], color='tab:green')
plt.ylabel('velocity')

plt.figure(figsize=(5,3))
plt.plot(actions, color='tab:red')
plt.ylabel('actions')

plt.figure(figsize=(5,3))
plt.plot(rewards, color='tab:purple')
plt.ylabel('rewards')








env = gym.make('Pendulum-v1', g=9.81, render_mode=None) # switch off rendering
for ep in range(500):
    # start a larger range initial conditions to see enough of the statespace
    s, _ = env.reset(options={"y_init": 4.0})
    for t in range(100):
        a = pi.get_action(s) 
        s_new, rew, term, trunc, _ = env.step(a)
        buffer.add_transition([s,a,rew,s_new, term, trunc])
        s = s_new


buffer.size








class ValueFunction(Feedforward):
    def __init__(self, observation_dim, hidden_sizes=[100,100]):
        super().__init__(input_size=observation_dim, hidden_sizes=hidden_sizes, output_size=1)
        
        # so this class is already a neural network, see feedforward.py        
        # add and optimizer here (e.g. Adam with lr = 0.0002, eps=0.000001)
        self.optimizer = None
        
        # add a loss function here
        self.loss = None
    
    def fit(self, observations, targets):
        # Add one training step here. 
        # The states are called here observations        
        self.optimizer.zero_grad()
        
        # Hints:         
        # convert the inputs into torch tensors with torch.from_numpy
        # use self.forward(input) to make a prediction to be used in the loss
        
        # return the current loss
        return loss.item()


valuefunc = ValueFunction(observation_dim=env.observation_space.shape[0])





plt_fit = []


iter_fit = 100 # do at least 2000
gamma=0.95
for i in range(iter_fit):

    # sample from the replay buffer
    data=buffer.sample(batch=512)
    # each entry in data is (state,action,reward,next_state, term, trunc)    
    
    # Hints:
    #  use can use np.stack to convert the array or arrays into one array
    #  it is really important that you check the shapes of your arrays.
    #  It should be (128,2) for the state and (128,1) for reward and values
    
    state = None
    
    td_target = None 
    
    # optimize the least squared objective
    fit_loss = valuefunc.fit(states, td_target)
    
    plt_fit.append(fit_loss)
    
# plot the loss
plt.figure()
plt.yscale("log")
plt.plot(range(len(plt_fit)),plt_fit)








def plot_value_function(value_function):
    plt.rcParams.update({'font.size': 12})
    xxs =np.linspace(-np.pi/2,np.pi/2)
    yys =np.linspace(-3,3)
    XX,YY=np.meshgrid(xxs,yys)
    dots=np.asarray([np.cos(XX.ravel()),np.sin(XX.ravel()),YY.ravel()]).T
    print(dots.shape)
    # values = np.asarray(test_func(dots)).reshape(XX.shape)
    values =value_function.predict(dots).reshape(XX.shape)

    fig = plt.figure(figsize=[10,8])
    ax = fig.add_subplot(projection='3d')
    surf = ax.plot_surface(XX, YY, values, cmap=cm.coolwarm,
                           linewidth=0, antialiased=False)
    ax.view_init(elev=30, azim=45, roll=0)
    ax.set_xlabel('angle')
    ax.set_ylabel('angle velocity')
    ax.set_zlabel('value')
    # plt.colorbar(cmap=cm.coolwarm)
    return fig


fig.savefig("value_approx.pdf", bbox_inches="tight")



