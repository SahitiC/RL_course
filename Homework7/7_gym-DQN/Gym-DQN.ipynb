{
 "cells": [
  {
   "cell_type": "code",
   "execution_count": 1,
   "metadata": {
    "ExecuteTime": {
     "end_time": "2020-12-21T18:05:51.257918Z",
     "start_time": "2020-12-21T18:05:51.251728Z"
    }
   },
   "outputs": [],
   "source": [
    "import gymnasium as gym\n",
    "from gymnasium import spaces\n",
    "import numpy as np\n",
    "import itertools\n",
    "import time\n",
    "import torch\n",
    "import pylab as plt\n",
    "# %matplotlib inline\n",
    "# %matplotlib notebook\n",
    "from mpl_toolkits.mplot3d import Axes3D\n",
    "from matplotlib import cm\n",
    "\n",
    "import memory as mem   \n",
    "from feedforward import Feedforward"
   ]
  },
  {
   "cell_type": "markdown",
   "metadata": {},
   "source": [
    "## Helper Functions"
   ]
  },
  {
   "cell_type": "code",
   "execution_count": 2,
   "metadata": {
    "ExecuteTime": {
     "end_time": "2020-12-21T18:06:39.417731Z",
     "start_time": "2020-12-21T18:06:39.410580Z"
    }
   },
   "outputs": [],
   "source": [
    "def running_mean(x, N):\n",
    "    cumsum = np.cumsum(np.insert(x, 0, 0)) \n",
    "    return (cumsum[N:] - cumsum[:-N]) / float(N)"
   ]
  },
  {
   "cell_type": "code",
   "execution_count": 3,
   "metadata": {},
   "outputs": [],
   "source": [
    "class DiscreteActionWrapper(gym.ActionWrapper):\n",
    "    def __init__(self, env: gym.Env, bins = 5):\n",
    "        \"\"\"A wrapper for converting a 1D continuous actions into discrete ones.\n",
    "        Args:\n",
    "            env: The environment to apply the wrapper\n",
    "            bins: number of discrete actions\n",
    "        \"\"\"\n",
    "        assert isinstance(env.action_space, spaces.Box)\n",
    "        super().__init__(env)\n",
    "        self.bins = bins\n",
    "        self.orig_action_space = env.action_space\n",
    "        self.action_space = spaces.Discrete(self.bins)\n",
    "\n",
    "    def action(self, action):\n",
    "        \"\"\" discrete actions from low to high in 'bins'\n",
    "        Args:\n",
    "            action: The discrete action\n",
    "        Returns:\n",
    "            continuous action\n",
    "        \"\"\"\n",
    "        return self.orig_action_space.low + action/(self.bins-1.0)*(self.orig_action_space.high-self.orig_action_space.low)  "
   ]
  },
  {
   "cell_type": "markdown",
   "metadata": {},
   "source": [
    "# DQN"
   ]
  },
  {
   "cell_type": "markdown",
   "metadata": {},
   "source": [
    "Complete the implemenation of DQN with a main Q-network and a target Q-network"
   ]
  },
  {
   "cell_type": "code",
   "execution_count": 18,
   "metadata": {
    "ExecuteTime": {
     "end_time": "2020-12-21T18:59:28.812749Z",
     "start_time": "2020-12-21T18:59:28.796517Z"
    }
   },
   "outputs": [],
   "source": [
    "\"\"\" Q Network, input: observations, output: q-values for all actions \"\"\"\n",
    "class QFunction(Feedforward):\n",
    "    def __init__(self, observation_dim, action_dim, \n",
    "                 hidden_sizes=[100,100], learning_rate = 0.0002):\n",
    "        super().__init__(input_size=observation_dim, \n",
    "                         hidden_sizes=hidden_sizes, \n",
    "                         output_size=action_dim)\n",
    "        self.optimizer=torch.optim.Adam(self.parameters(), \n",
    "                                        lr=learning_rate, \n",
    "                                        eps=0.000001)\n",
    "        # The L1 loss is often easier for choosing learning rates etc than for L2 (MSELoss)\n",
    "        #  Imagine larger q-values (in the hundreds) then an squared error can quickly be 10000!, \n",
    "        #  whereas the L1 (absolute) error is simply in the order of 100. \n",
    "        self.loss = torch.nn.SmoothL1Loss()\n",
    "        \n",
    "    def fit(self, observations, actions, targets):\n",
    "        # TODO: complete this\n",
    "\n",
    "        self.train()\n",
    "        self.optimizer.zero_grad()\n",
    "        Q_pred = self.Q_value(observations, actions)\n",
    "        loss = self.loss(Q_pred, torch.from_numpy(targets).float())\n",
    "        loss.backward()\n",
    "        self.optimizer.step()\n",
    "        \n",
    "        return loss.item()\n",
    "    \n",
    "    def Q_value(self, observations, actions):\n",
    "        # compute the Q value for the give actions\n",
    "        # Hint: use the torch.gather function select the right outputs \n",
    "        # Complete this\n",
    "        output = self.forward(torch.from_numpy(observations).float())\n",
    "        Q_pred = torch.gather(output, 0, torch.from_numpy(actions).long())\n",
    "        return Q_pred        \n",
    "    \n",
    "    def maxQ(self, observations):\n",
    "        # compute the maximal Q-value\n",
    "        # Complete this\n",
    "        return np.max(self.predict(observations), axis=-1)\n",
    "    \n",
    "    def greedyAction(self, observations):\n",
    "        # this computes the greedy action\n",
    "        return np.argmax(self.predict(observations), axis=-1)"
   ]
  },
  {
   "cell_type": "code",
   "execution_count": 34,
   "metadata": {
    "ExecuteTime": {
     "end_time": "2020-12-21T19:24:52.568800Z",
     "start_time": "2020-12-21T19:24:52.557112Z"
    }
   },
   "outputs": [],
   "source": [
    "class DQNAgent(object):\n",
    "    \"\"\"\n",
    "    Agent implementing Q-learning with NN function approximation.    \n",
    "    \"\"\"\n",
    "    def __init__(self, observation_space, action_space, **userconfig):\n",
    "        \n",
    "        if not isinstance(observation_space, spaces.box.Box):\n",
    "            raise UnsupportedSpace('Observation space {} incompatible ' \\\n",
    "                                   'with {}. (Require: Box)'.format(observation_space, self))\n",
    "        if not isinstance(action_space, spaces.discrete.Discrete):\n",
    "            raise UnsupportedSpace('Action space {} incompatible with {}.' \\\n",
    "                                   ' (Reqire Discrete.)'.format(action_space, self))\n",
    "        \n",
    "        self._observation_space = observation_space\n",
    "        self._action_space = action_space\n",
    "        self._action_n = action_space.n\n",
    "        self._config = {\n",
    "            \"eps\": 0.05,            # Epsilon in epsilon greedy policies                        \n",
    "            \"discount\": 0.95,\n",
    "            \"buffer_size\": int(1e5),\n",
    "            \"batch_size\": 128,\n",
    "            \"learning_rate\": 0.0002, \n",
    "            # add additional parameters here        \n",
    "        }\n",
    "        self._config.update(userconfig)        \n",
    "        self._eps = self._config['eps']\n",
    "        self.buffer = mem.Memory(max_size=self._config[\"buffer_size\"])\n",
    "        \n",
    "        # complete here\n",
    "        self.train_iter = 0\n",
    "        self.Q = QFunction(observation_dim = self._observation_space.shape[0],\n",
    "                           action_dim = self._action_n)\n",
    "        self.target_Q = QFunction(observation_dim = self._observation_space.shape[0],\n",
    "                           action_dim = self._action_n)\n",
    "        self._update_target_net()\n",
    "            \n",
    "    def _update_target_net(self):        \n",
    "        # complete here\n",
    "        # Hint: use load_state_dict() and state_dict() functions\n",
    "        model_state = self.Q.state_dict()\n",
    "        model_state_copy = model_state.copy()\n",
    "        self.target_Q.load_state_dict(model_state_copy)\n",
    "        # pass\n",
    "    \n",
    "    def act(self, observation, eps=None):\n",
    "        if eps is None:\n",
    "            eps = self._eps\n",
    "        # epsilon greedy\n",
    "        if np.random.random() > eps:\n",
    "            action = self.Q.greedyAction(observation)\n",
    "        else: \n",
    "            action = self._action_space.sample()        \n",
    "        return action\n",
    "    \n",
    "    def store_transition(self, transition):\n",
    "        self.buffer.add_transition(transition)\n",
    "            \n",
    "    def train(self, iter_fit=32):\n",
    "        losses = []\n",
    "        # complete this! \n",
    "        # Hint: look at last exercise's solution\n",
    "        # Hint: while developing print the shape of !all! tensors/arrays to make sure \n",
    "        #  they have the right shape: (batchsize, X)  \n",
    "        \n",
    "        # Hint: for the target network, update its parameters at the beginning of this function \n",
    "        # every k  train calls. \n",
    "\n",
    "        # hide this for no target network\n",
    "        if (self.train_iter+1) % 20 == 0: # change divisor to change how often target network is updated\n",
    "            self._update_target_net()\n",
    "        \n",
    "        # Hint:\n",
    "        for i in range(iter_fit):\n",
    "            \n",
    "            data=self.buffer.sample(batch=self._config['batch_size'])\n",
    "            s = np.stack(data[:,0]) # s_t\n",
    "            sp = np.stack(data[:,3]) # s_t+1\n",
    "            actions = np.stack(data[:,1])[:,None] # a_t\n",
    "            rew = np.stack(data[:,2])[:,None] # rew\n",
    "            done = np.stack(data[:,4])[:,None] # done flag\n",
    "            \n",
    "            # predict Q_values with current Q network\n",
    "            Q_values = self.Q.Q_value(s, actions)\n",
    "            Q_max = self.Q.maxQ(sp)[:,None] # for no target network\n",
    "            # Q_max = self.target_Q.maxQ(sp)[:,None] # with target network\n",
    "            # target\n",
    "            td_target = rew+(1-done)*self._config['discount']*Q_max\n",
    "            \n",
    "            # optimize the objective\n",
    "            fit_loss = self.Q.fit(s, actions, td_target)\n",
    "            losses.append(fit_loss)  \n",
    "\n",
    "        self.train_iter+=1\n",
    "            \n",
    "        return losses"
   ]
  },
  {
   "cell_type": "markdown",
   "metadata": {},
   "source": [
    "## Test in Env"
   ]
  },
  {
   "cell_type": "code",
   "execution_count": 35,
   "metadata": {
    "ExecuteTime": {
     "end_time": "2020-12-21T19:02:22.784840Z",
     "start_time": "2020-12-21T19:02:22.774564Z"
    }
   },
   "outputs": [
    {
     "name": "stdout",
     "output_type": "stream",
     "text": [
      "Discrete(2)\n",
      "Box([-4.8               -inf -0.41887903        -inf], [4.8               inf 0.41887903        inf], (4,), float32)\n",
      "[(np.float32(-4.8), np.float32(4.8)), (np.float32(-inf), np.float32(inf)), (np.float32(-0.41887903), np.float32(0.41887903)), (np.float32(-inf), np.float32(inf))]\n"
     ]
    }
   ],
   "source": [
    "# env_name = 'Pendulum-v1'\n",
    "env_name = 'CartPole-v1'\n",
    "\n",
    "env = gym.make(env_name)\n",
    "if isinstance(env.action_space, spaces.Box):\n",
    "    env = DiscreteActionWrapper(env,5)\n",
    "\n",
    "ac_space = env.action_space\n",
    "o_space = env.observation_space\n",
    "print(ac_space)\n",
    "print(o_space)\n",
    "print(list(zip(env.observation_space.low, env.observation_space.high)))"
   ]
  },
  {
   "cell_type": "code",
   "execution_count": 36,
   "metadata": {
    "ExecuteTime": {
     "end_time": "2020-12-21T19:02:23.234105Z",
     "start_time": "2020-12-21T19:02:23.223995Z"
    },
    "scrolled": true
   },
   "outputs": [],
   "source": [
    "q_agent = DQNAgent(o_space, ac_space, discount=0.95, eps=0.2)"
   ]
  },
  {
   "cell_type": "code",
   "execution_count": 37,
   "metadata": {
    "ExecuteTime": {
     "end_time": "2020-12-21T19:02:23.835298Z",
     "start_time": "2020-12-21T19:02:23.825910Z"
    }
   },
   "outputs": [
    {
     "data": {
      "text/plain": [
       "array([0.04293102, 0.05908079], dtype=float32)"
      ]
     },
     "execution_count": 37,
     "metadata": {},
     "output_type": "execute_result"
    }
   ],
   "source": [
    "ob,_info = env.reset()\n",
    "q_agent.Q.predict(ob)"
   ]
  },
  {
   "cell_type": "markdown",
   "metadata": {},
   "source": [
    "Train the agent!"
   ]
  },
  {
   "cell_type": "code",
   "execution_count": 38,
   "metadata": {
    "ExecuteTime": {
     "end_time": "2020-12-21T19:02:24.886780Z",
     "start_time": "2020-12-21T19:02:24.882514Z"
    }
   },
   "outputs": [],
   "source": [
    "stats = []\n",
    "losses = []"
   ]
  },
  {
   "cell_type": "code",
   "execution_count": 39,
   "metadata": {
    "ExecuteTime": {
     "end_time": "2020-12-21T19:03:37.085509Z",
     "start_time": "2020-12-21T19:02:25.394222Z"
    }
   },
   "outputs": [
    {
     "name": "stdout",
     "output_type": "stream",
     "text": [
      "1: Done after 9 steps. Reward: 9.0\n",
      "21: Done after 9 steps. Reward: 9.0\n",
      "41: Done after 9 steps. Reward: 9.0\n",
      "61: Done after 10 steps. Reward: 10.0\n",
      "81: Done after 9 steps. Reward: 9.0\n",
      "101: Done after 12 steps. Reward: 12.0\n",
      "121: Done after 12 steps. Reward: 12.0\n",
      "141: Done after 13 steps. Reward: 13.0\n",
      "161: Done after 21 steps. Reward: 21.0\n",
      "181: Done after 10 steps. Reward: 10.0\n",
      "201: Done after 10 steps. Reward: 10.0\n",
      "221: Done after 10 steps. Reward: 10.0\n",
      "241: Done after 10 steps. Reward: 10.0\n",
      "261: Done after 13 steps. Reward: 13.0\n",
      "281: Done after 9 steps. Reward: 9.0\n",
      "301: Done after 8 steps. Reward: 8.0\n",
      "321: Done after 10 steps. Reward: 10.0\n",
      "341: Done after 11 steps. Reward: 11.0\n",
      "361: Done after 9 steps. Reward: 9.0\n",
      "381: Done after 9 steps. Reward: 9.0\n",
      "401: Done after 9 steps. Reward: 9.0\n",
      "421: Done after 14 steps. Reward: 14.0\n",
      "441: Done after 11 steps. Reward: 11.0\n",
      "461: Done after 10 steps. Reward: 10.0\n",
      "481: Done after 9 steps. Reward: 9.0\n",
      "501: Done after 11 steps. Reward: 11.0\n",
      "521: Done after 9 steps. Reward: 9.0\n",
      "541: Done after 12 steps. Reward: 12.0\n",
      "561: Done after 9 steps. Reward: 9.0\n",
      "581: Done after 12 steps. Reward: 12.0\n"
     ]
    }
   ],
   "source": [
    "max_episodes=600\n",
    "max_steps=500 \n",
    "for i in range(max_episodes):\n",
    "    # print(\"Starting a new episode\")    \n",
    "    total_reward = 0\n",
    "    ob, _info = env.reset()\n",
    "    for t in range(max_steps):\n",
    "        done = False        \n",
    "        a = q_agent.act(ob)\n",
    "        (ob_new, reward, done, trunc, _info) = env.step(a)\n",
    "        total_reward+= reward\n",
    "        q_agent.store_transition((ob, a, reward, ob_new, done))            \n",
    "        ob=ob_new        \n",
    "        if done: break    \n",
    "    losses.extend(q_agent.train(32))\n",
    "    stats.append([i,total_reward,t+1])    \n",
    "    \n",
    "    if ((i-1)%20==0):\n",
    "        print(\"{}: Done after {} steps. Reward: {}\".format(i, t+1, total_reward))"
   ]
  },
  {
   "cell_type": "markdown",
   "metadata": {
    "ExecuteTime": {
     "end_time": "2020-12-21T19:29:28.951108Z",
     "start_time": "2020-12-21T19:29:28.946226Z"
    }
   },
   "source": [
    "Plot the training reward over time. Use the running_mean(array, window_size) to plot a smooth version "
   ]
  },
  {
   "cell_type": "code",
   "execution_count": 40,
   "metadata": {
    "ExecuteTime": {
     "end_time": "2020-12-21T19:29:48.979748Z",
     "start_time": "2020-12-21T19:29:48.974261Z"
    },
    "scrolled": true
   },
   "outputs": [
    {
     "data": {
      "text/plain": [
       "Text(0.5, 0, 'training episodes')"
      ]
     },
     "execution_count": 40,
     "metadata": {},
     "output_type": "execute_result"
    },
    {
     "data": {
      "image/png": "[encoded data removed]",
      "text/plain": [
       "<Figure size 640x480 with 1 Axes>"
      ]
     },
     "metadata": {},
     "output_type": "display_data"
    }
   ],
   "source": [
    "stats_np = np.asarray(stats) # reward\n",
    "running_mean_stats = running_mean(stats_np[:, 1], 20)\n",
    "plt.plot(running_mean_stats)\n",
    "plt.ylabel('reward')\n",
    "plt.xlabel('training episodes')"
   ]
  },
  {
   "cell_type": "code",
   "execution_count": 41,
   "metadata": {
    "ExecuteTime": {
     "end_time": "2020-12-21T19:30:10.718611Z",
     "start_time": "2020-12-21T19:30:10.713607Z"
    }
   },
   "outputs": [
    {
     "data": {
      "text/plain": [
       "[<matplotlib.lines.Line2D at 0x11fad7150>]"
      ]
     },
     "execution_count": 41,
     "metadata": {},
     "output_type": "execute_result"
    },
    {
     "data": {
      "image/png": "[encoded data removed]",
      "text/plain": [
       "<Figure size 640x480 with 1 Axes>"
      ]
     },
     "metadata": {},
     "output_type": "display_data"
    }
   ],
   "source": [
    "losses_np = np.asarray(losses)\n",
    "plt.plot(losses_np)"
   ]
  },
  {
   "cell_type": "code",
   "execution_count": 26,
   "metadata": {
    "ExecuteTime": {
     "end_time": "2020-12-21T19:30:15.428055Z",
     "start_time": "2020-12-21T19:30:15.419265Z"
    }
   },
   "outputs": [
    {
     "data": {
      "text/plain": [
       "6359"
      ]
     },
     "execution_count": 26,
     "metadata": {},
     "output_type": "execute_result"
    }
   ],
   "source": [
    "q_agent.buffer.size"
   ]
  },
  {
   "cell_type": "markdown",
   "metadata": {},
   "source": [
    "## Evaluate (without exploration)"
   ]
  },
  {
   "cell_type": "markdown",
   "metadata": {},
   "source": [
    "Please look at the behavior for a small number of episodes"
   ]
  },
  {
   "cell_type": "code",
   "execution_count": 42,
   "metadata": {},
   "outputs": [],
   "source": [
    "env_eval = gym.make(env_name, render_mode=\"human\")\n",
    "if isinstance(env.action_space, spaces.Box):\n",
    "    env_eval = DiscreteActionWrapper(env_eval,5)"
   ]
  },
  {
   "cell_type": "code",
   "execution_count": 43,
   "metadata": {
    "ExecuteTime": {
     "end_time": "2020-12-21T19:04:24.675613Z",
     "start_time": "2020-12-21T19:04:23.832884Z"
    }
   },
   "outputs": [],
   "source": [
    "test_stats = []\n",
    "episodes=50\n",
    "env_ = env    # without rendering\n",
    "#env_ = env_eval # with rendering\n",
    "\n",
    "for i in range(episodes):\n",
    "    total_reward = 0\n",
    "    ob, _info = env_.reset()\n",
    "    for t in range(max_steps):\n",
    "        done = False        \n",
    "        a = q_agent.act(ob, eps=0.0)\n",
    "        (ob_new, reward, done, trunc, _info) = env_.step(a)\n",
    "        total_reward+= reward\n",
    "        ob=ob_new        \n",
    "        if done: break    \n",
    "    test_stats.append([i,total_reward,t+1])        "
   ]
  },
  {
   "cell_type": "markdown",
   "metadata": {},
   "source": [
    "Evaluate mean and standard deviation of performance \n",
    "\n",
    "(for the Pendulum: an average return around -30 or better should be achieved)\n",
    "\n",
    "(for the CartPendulum it is possible to get 200)"
   ]
  },
  {
   "cell_type": "code",
   "execution_count": 44,
   "metadata": {
    "ExecuteTime": {
     "end_time": "2020-12-21T19:32:07.922653Z",
     "start_time": "2020-12-21T19:32:07.918689Z"
    }
   },
   "outputs": [
    {
     "data": {
      "text/plain": [
       "Text(0.5, 0, 'test episodes')"
      ]
     },
     "execution_count": 44,
     "metadata": {},
     "output_type": "execute_result"
    },
    {
     "data": {
      "image/png": "[encoded data removed]",
      "text/plain": [
       "<Figure size 640x480 with 1 Axes>"
      ]
     },
     "metadata": {},
     "output_type": "display_data"
    }
   ],
   "source": [
    "test_stats_np = np.asarray(test_stats) # reward\n",
    "running_mean_test_stats = running_mean(test_stats_np[:, 1], 5)\n",
    "plt.plot(running_mean_test_stats)\n",
    "plt.ylabel('average reward per episode')\n",
    "plt.xlabel('test episodes')"
   ]
  },
  {
   "cell_type": "markdown",
   "metadata": {},
   "source": [
    "# Visualize"
   ]
  },
  {
   "cell_type": "markdown",
   "metadata": {},
   "source": [
    "Visualization of the value function."
   ]
  },
  {
   "cell_type": "code",
   "execution_count": 30,
   "metadata": {},
   "outputs": [],
   "source": [
    "def plot_value_function(Q_function):\n",
    "    plt.rcParams.update({'font.size': 12})\n",
    "    xxs =np.linspace(-np.pi/2,np.pi/2)\n",
    "    yys =np.linspace(-8,8)\n",
    "    XX,YY=np.meshgrid(xxs,yys)\n",
    "    dots=np.asarray([np.cos(XX.ravel()),np.sin(XX.ravel()),YY.ravel()]).T\n",
    "    # values = np.asarray(test_func(dots)).reshape(XX.shape)\n",
    "    values = Q_function.maxQ(dots).reshape(XX.shape)\n",
    "    \n",
    "    fig = plt.figure(figsize=[10,8])\n",
    "    ax = fig.add_subplot(projection='3d')\n",
    "    surf = ax.plot_surface(XX, YY, values, cmap=cm.coolwarm,\n",
    "                           linewidth=0, antialiased=False)\n",
    "    ax.view_init(elev=30, azim=45, roll=0)\n",
    "    ax.set_xlabel('angle')\n",
    "    ax.set_ylabel('angle velocity')\n",
    "    ax.set_zlabel('value')\n",
    "    # plt.colorbar(cmap=cm.coolwarm)\n",
    "    return fig"
   ]
  },
  {
   "cell_type": "markdown",
   "metadata": {},
   "source": [
    "## Pendulum Env"
   ]
  },
  {
   "cell_type": "markdown",
   "metadata": {},
   "source": [
    "Observation space:\n",
    "\n",
    "0 angle\n",
    "\n",
    "1 angular velocity"
   ]
  },
  {
   "cell_type": "markdown",
   "metadata": {
    "ExecuteTime": {
     "end_time": "2020-12-21T19:33:42.687725Z",
     "start_time": "2020-12-21T19:33:42.681341Z"
    }
   },
   "source": [
    "Do that for the pendulum function. Does it look like you expect?"
   ]
  },
  {
   "cell_type": "code",
   "execution_count": 31,
   "metadata": {},
   "outputs": [
    {
     "ename": "RuntimeError",
     "evalue": "mat1 and mat2 shapes cannot be multiplied (2500x3 and 4x100)",
     "output_type": "error",
     "traceback": [
      "\u001b[0;31m---------------------------------------------------------------------------\u001b[0m",
      "\u001b[0;31mRuntimeError\u001b[0m                              Traceback (most recent call last)",
      "Cell \u001b[0;32mIn[31], line 1\u001b[0m\n\u001b[0;32m----> 1\u001b[0m \u001b[43mplot_value_function\u001b[49m\u001b[43m(\u001b[49m\u001b[43mq_agent\u001b[49m\u001b[38;5;241;43m.\u001b[39;49m\u001b[43mQ\u001b[49m\u001b[43m)\u001b[49m\n",
      "Cell \u001b[0;32mIn[30], line 8\u001b[0m, in \u001b[0;36mplot_value_function\u001b[0;34m(Q_function)\u001b[0m\n\u001b[1;32m      6\u001b[0m dots\u001b[38;5;241m=\u001b[39mnp\u001b[38;5;241m.\u001b[39masarray([np\u001b[38;5;241m.\u001b[39mcos(XX\u001b[38;5;241m.\u001b[39mravel()),np\u001b[38;5;241m.\u001b[39msin(XX\u001b[38;5;241m.\u001b[39mravel()),YY\u001b[38;5;241m.\u001b[39mravel()])\u001b[38;5;241m.\u001b[39mT\n\u001b[1;32m      7\u001b[0m \u001b[38;5;66;03m# values = np.asarray(test_func(dots)).reshape(XX.shape)\u001b[39;00m\n\u001b[0;32m----> 8\u001b[0m values \u001b[38;5;241m=\u001b[39m \u001b[43mQ_function\u001b[49m\u001b[38;5;241;43m.\u001b[39;49m\u001b[43mmaxQ\u001b[49m\u001b[43m(\u001b[49m\u001b[43mdots\u001b[49m\u001b[43m)\u001b[49m\u001b[38;5;241m.\u001b[39mreshape(XX\u001b[38;5;241m.\u001b[39mshape)\n\u001b[1;32m     10\u001b[0m fig \u001b[38;5;241m=\u001b[39m plt\u001b[38;5;241m.\u001b[39mfigure(figsize\u001b[38;5;241m=\u001b[39m[\u001b[38;5;241m10\u001b[39m,\u001b[38;5;241m8\u001b[39m])\n\u001b[1;32m     11\u001b[0m ax \u001b[38;5;241m=\u001b[39m fig\u001b[38;5;241m.\u001b[39madd_subplot(projection\u001b[38;5;241m=\u001b[39m\u001b[38;5;124m'\u001b[39m\u001b[38;5;124m3d\u001b[39m\u001b[38;5;124m'\u001b[39m)\n",
      "Cell \u001b[0;32mIn[18], line 39\u001b[0m, in \u001b[0;36mQFunction.maxQ\u001b[0;34m(self, observations)\u001b[0m\n\u001b[1;32m     36\u001b[0m \u001b[38;5;28;01mdef\u001b[39;00m \u001b[38;5;21mmaxQ\u001b[39m(\u001b[38;5;28mself\u001b[39m, observations):\n\u001b[1;32m     37\u001b[0m     \u001b[38;5;66;03m# compute the maximal Q-value\u001b[39;00m\n\u001b[1;32m     38\u001b[0m     \u001b[38;5;66;03m# Complete this\u001b[39;00m\n\u001b[0;32m---> 39\u001b[0m     \u001b[38;5;28;01mreturn\u001b[39;00m np\u001b[38;5;241m.\u001b[39mmax(\u001b[38;5;28;43mself\u001b[39;49m\u001b[38;5;241;43m.\u001b[39;49m\u001b[43mpredict\u001b[49m\u001b[43m(\u001b[49m\u001b[43mobservations\u001b[49m\u001b[43m)\u001b[49m, axis\u001b[38;5;241m=\u001b[39m\u001b[38;5;241m-\u001b[39m\u001b[38;5;241m1\u001b[39m)\n",
      "File \u001b[0;32m~/work_study/coursework/RL_course/Homework7/7_gym-DQN/feedforward.py:22\u001b[0m, in \u001b[0;36mFeedforward.predict\u001b[0;34m(self, x)\u001b[0m\n\u001b[1;32m     20\u001b[0m \u001b[38;5;28;01mdef\u001b[39;00m \u001b[38;5;21mpredict\u001b[39m(\u001b[38;5;28mself\u001b[39m, x):\n\u001b[1;32m     21\u001b[0m     \u001b[38;5;28;01mwith\u001b[39;00m torch\u001b[38;5;241m.\u001b[39mno_grad():\n\u001b[0;32m---> 22\u001b[0m         \u001b[38;5;28;01mreturn\u001b[39;00m \u001b[38;5;28;43mself\u001b[39;49m\u001b[38;5;241;43m.\u001b[39;49m\u001b[43mforward\u001b[49m\u001b[43m(\u001b[49m\u001b[43mtorch\u001b[49m\u001b[38;5;241;43m.\u001b[39;49m\u001b[43mfrom_numpy\u001b[49m\u001b[43m(\u001b[49m\u001b[43mx\u001b[49m\u001b[38;5;241;43m.\u001b[39;49m\u001b[43mastype\u001b[49m\u001b[43m(\u001b[49m\u001b[43mnp\u001b[49m\u001b[38;5;241;43m.\u001b[39;49m\u001b[43mfloat32\u001b[49m\u001b[43m)\u001b[49m\u001b[43m)\u001b[49m\u001b[43m)\u001b[49m\u001b[38;5;241m.\u001b[39mnumpy()\n",
      "File \u001b[0;32m~/work_study/coursework/RL_course/Homework7/7_gym-DQN/feedforward.py:17\u001b[0m, in \u001b[0;36mFeedforward.forward\u001b[0;34m(self, x)\u001b[0m\n\u001b[1;32m     15\u001b[0m \u001b[38;5;28;01mdef\u001b[39;00m \u001b[38;5;21mforward\u001b[39m(\u001b[38;5;28mself\u001b[39m, x):\n\u001b[1;32m     16\u001b[0m     \u001b[38;5;28;01mfor\u001b[39;00m layer,activation_fun \u001b[38;5;129;01min\u001b[39;00m \u001b[38;5;28mzip\u001b[39m(\u001b[38;5;28mself\u001b[39m\u001b[38;5;241m.\u001b[39mlayers, \u001b[38;5;28mself\u001b[39m\u001b[38;5;241m.\u001b[39mactivations):\n\u001b[0;32m---> 17\u001b[0m         x \u001b[38;5;241m=\u001b[39m activation_fun(\u001b[43mlayer\u001b[49m\u001b[43m(\u001b[49m\u001b[43mx\u001b[49m\u001b[43m)\u001b[49m)\n\u001b[1;32m     18\u001b[0m     \u001b[38;5;28;01mreturn\u001b[39;00m \u001b[38;5;28mself\u001b[39m\u001b[38;5;241m.\u001b[39mreadout(x)\n",
      "File \u001b[0;32m~/work_study/coursework/RL_course/Homework7/7_gym-DQN/.venv/lib/python3.11/site-packages/torch/nn/modules/module.py:1736\u001b[0m, in \u001b[0;36mModule._wrapped_call_impl\u001b[0;34m(self, *args, **kwargs)\u001b[0m\n\u001b[1;32m   1734\u001b[0m     \u001b[38;5;28;01mreturn\u001b[39;00m \u001b[38;5;28mself\u001b[39m\u001b[38;5;241m.\u001b[39m_compiled_call_impl(\u001b[38;5;241m*\u001b[39margs, \u001b[38;5;241m*\u001b[39m\u001b[38;5;241m*\u001b[39mkwargs)  \u001b[38;5;66;03m# type: ignore[misc]\u001b[39;00m\n\u001b[1;32m   1735\u001b[0m \u001b[38;5;28;01melse\u001b[39;00m:\n\u001b[0;32m-> 1736\u001b[0m     \u001b[38;5;28;01mreturn\u001b[39;00m \u001b[38;5;28;43mself\u001b[39;49m\u001b[38;5;241;43m.\u001b[39;49m\u001b[43m_call_impl\u001b[49m\u001b[43m(\u001b[49m\u001b[38;5;241;43m*\u001b[39;49m\u001b[43margs\u001b[49m\u001b[43m,\u001b[49m\u001b[43m \u001b[49m\u001b[38;5;241;43m*\u001b[39;49m\u001b[38;5;241;43m*\u001b[39;49m\u001b[43mkwargs\u001b[49m\u001b[43m)\u001b[49m\n",
      "File \u001b[0;32m~/work_study/coursework/RL_course/Homework7/7_gym-DQN/.venv/lib/python3.11/site-packages/torch/nn/modules/module.py:1747\u001b[0m, in \u001b[0;36mModule._call_impl\u001b[0;34m(self, *args, **kwargs)\u001b[0m\n\u001b[1;32m   1742\u001b[0m \u001b[38;5;66;03m# If we don't have any hooks, we want to skip the rest of the logic in\u001b[39;00m\n\u001b[1;32m   1743\u001b[0m \u001b[38;5;66;03m# this function, and just call forward.\u001b[39;00m\n\u001b[1;32m   1744\u001b[0m \u001b[38;5;28;01mif\u001b[39;00m \u001b[38;5;129;01mnot\u001b[39;00m (\u001b[38;5;28mself\u001b[39m\u001b[38;5;241m.\u001b[39m_backward_hooks \u001b[38;5;129;01mor\u001b[39;00m \u001b[38;5;28mself\u001b[39m\u001b[38;5;241m.\u001b[39m_backward_pre_hooks \u001b[38;5;129;01mor\u001b[39;00m \u001b[38;5;28mself\u001b[39m\u001b[38;5;241m.\u001b[39m_forward_hooks \u001b[38;5;129;01mor\u001b[39;00m \u001b[38;5;28mself\u001b[39m\u001b[38;5;241m.\u001b[39m_forward_pre_hooks\n\u001b[1;32m   1745\u001b[0m         \u001b[38;5;129;01mor\u001b[39;00m _global_backward_pre_hooks \u001b[38;5;129;01mor\u001b[39;00m _global_backward_hooks\n\u001b[1;32m   1746\u001b[0m         \u001b[38;5;129;01mor\u001b[39;00m _global_forward_hooks \u001b[38;5;129;01mor\u001b[39;00m _global_forward_pre_hooks):\n\u001b[0;32m-> 1747\u001b[0m     \u001b[38;5;28;01mreturn\u001b[39;00m \u001b[43mforward_call\u001b[49m\u001b[43m(\u001b[49m\u001b[38;5;241;43m*\u001b[39;49m\u001b[43margs\u001b[49m\u001b[43m,\u001b[49m\u001b[43m \u001b[49m\u001b[38;5;241;43m*\u001b[39;49m\u001b[38;5;241;43m*\u001b[39;49m\u001b[43mkwargs\u001b[49m\u001b[43m)\u001b[49m\n\u001b[1;32m   1749\u001b[0m result \u001b[38;5;241m=\u001b[39m \u001b[38;5;28;01mNone\u001b[39;00m\n\u001b[1;32m   1750\u001b[0m called_always_called_hooks \u001b[38;5;241m=\u001b[39m \u001b[38;5;28mset\u001b[39m()\n",
      "File \u001b[0;32m~/work_study/coursework/RL_course/Homework7/7_gym-DQN/.venv/lib/python3.11/site-packages/torch/nn/modules/linear.py:125\u001b[0m, in \u001b[0;36mLinear.forward\u001b[0;34m(self, input)\u001b[0m\n\u001b[1;32m    124\u001b[0m \u001b[38;5;28;01mdef\u001b[39;00m \u001b[38;5;21mforward\u001b[39m(\u001b[38;5;28mself\u001b[39m, \u001b[38;5;28minput\u001b[39m: Tensor) \u001b[38;5;241m-\u001b[39m\u001b[38;5;241m>\u001b[39m Tensor:\n\u001b[0;32m--> 125\u001b[0m     \u001b[38;5;28;01mreturn\u001b[39;00m \u001b[43mF\u001b[49m\u001b[38;5;241;43m.\u001b[39;49m\u001b[43mlinear\u001b[49m\u001b[43m(\u001b[49m\u001b[38;5;28;43minput\u001b[39;49m\u001b[43m,\u001b[49m\u001b[43m \u001b[49m\u001b[38;5;28;43mself\u001b[39;49m\u001b[38;5;241;43m.\u001b[39;49m\u001b[43mweight\u001b[49m\u001b[43m,\u001b[49m\u001b[43m \u001b[49m\u001b[38;5;28;43mself\u001b[39;49m\u001b[38;5;241;43m.\u001b[39;49m\u001b[43mbias\u001b[49m\u001b[43m)\u001b[49m\n",
      "\u001b[0;31mRuntimeError\u001b[0m: mat1 and mat2 shapes cannot be multiplied (2500x3 and 4x100)"
     ]
    }
   ],
   "source": [
    "plot_value_function(q_agent.Q)"
   ]
  },
  {
   "cell_type": "markdown",
   "metadata": {},
   "source": [
    "## Cartpole Env"
   ]
  },
  {
   "cell_type": "markdown",
   "metadata": {},
   "source": [
    "Observation space:\n",
    " \n",
    "0       Cart Position             -4.8                    4.8\n",
    "\n",
    "1       Cart Velocity             -Inf                    Inf\n",
    "\n",
    "2       Pole Angle                -0.418 rad (-24 deg)    0.418 rad (24 deg)\n",
    "\n",
    "3       Pole Angular Velocity     -Inf                    Inf"
   ]
  },
  {
   "cell_type": "markdown",
   "metadata": {},
   "source": [
    "Try to adapt the plotting function that it also works in higher input spaces where all other inputs are 0"
   ]
  },
  {
   "cell_type": "code",
   "execution_count": null,
   "metadata": {},
   "outputs": [],
   "source": [
    "def plot_Q_function_generic(Q_function):\n",
    "    plt.rcParams.update({'font.size': 12})\n",
    "    xxs =np.linspace(-np.pi/2,np.pi/2)\n",
    "    yys =np.linspace(-8,8)\n",
    "    XX,YY=np.meshgrid(xxs,yys)\n",
    "    dots=np.asarray([np.cos(XX.ravel()),np.sin(XX.ravel()),YY.ravel()]).T\n",
    "    # values = np.asarray(test_func(dots)).reshape(XX.shape)\n",
    "    values = Q_function.maxQ(dots).reshape(XX.shape)\n",
    "    \n",
    "    fig = plt.figure(figsize=[10,8])\n",
    "    ax = fig.add_subplot(projection='3d')\n",
    "    surf = ax.plot_surface(XX, YY, values, cmap=cm.coolwarm,\n",
    "                           linewidth=0, antialiased=False)\n",
    "    ax.view_init(elev=30, azim=45, roll=0)\n",
    "    ax.set_xlabel('angle')\n",
    "    ax.set_ylabel('angle velocity')\n",
    "    ax.set_zlabel('value')\n",
    "    # plt.colorbar(cmap=cm.coolwarm)\n",
    "    return fig"
   ]
  },
  {
   "cell_type": "code",
   "execution_count": null,
   "metadata": {
    "ExecuteTime": {
     "end_time": "2020-12-21T18:54:50.314898Z",
     "start_time": "2020-12-21T18:54:49.995191Z"
    }
   },
   "outputs": [],
   "source": [
    "figQ = plot_Q_function_generic(q_agent.Q, input_dims=o_space.shape[0], plot_dim1=0, plot_dim2=2, \n",
    "                       label_dim1=\"Cart Pos\", label_dim2=\"Pole Angle\")"
   ]
  },
  {
   "cell_type": "code",
   "execution_count": null,
   "metadata": {
    "ExecuteTime": {
     "end_time": "2020-12-21T18:55:35.601378Z",
     "start_time": "2020-12-21T18:55:35.249950Z"
    }
   },
   "outputs": [],
   "source": [
    "figQ = plot_Q_function_generic(q_agent.Q, input_dims=o_space.shape[0], plot_dim1=0, plot_dim2=1, \n",
    "                       label_dim1=\"Cart Pos\", label_dim2=\"Cart Vel\")"
   ]
  },
  {
   "cell_type": "code",
   "execution_count": null,
   "metadata": {
    "ExecuteTime": {
     "end_time": "2020-12-21T18:56:35.399287Z",
     "start_time": "2020-12-21T18:56:35.347982Z"
    }
   },
   "outputs": [],
   "source": [
    "figQ = plot_Q_function_generic(q_agent.Q, input_dims=o_space.shape[0], plot_dim1=2, plot_dim2=3, \n",
    "                       label_dim1=\"Pol Angle\", label_dim2=\"Pole Vel\")"
   ]
  },
  {
   "cell_type": "code",
   "execution_count": null,
   "metadata": {
    "ExecuteTime": {
     "end_time": "2020-12-21T18:56:34.123769Z",
     "start_time": "2020-12-21T18:56:34.108294Z"
    }
   },
   "outputs": [],
   "source": [
    "%matplotlib notebook"
   ]
  },
  {
   "cell_type": "code",
   "execution_count": null,
   "metadata": {},
   "outputs": [],
   "source": [
    "# env_name = 'Acrobot-v1'\n",
    "# env_name = 'MountainCar-v0'\n",
    "# env_name = 'LunarLander-v2'"
   ]
  }
 ],
 "metadata": {
  "kernelspec": {
   "display_name": "Gym-RL",
   "language": "python",
   "name": "gym-rl"
  },
  "language_info": {
   "codemirror_mode": {
    "name": "ipython",
    "version": 3
   },
   "file_extension": ".py",
   "mimetype": "text/x-python",
   "name": "python",
   "nbconvert_exporter": "python",
   "pygments_lexer": "ipython3",
   "version": "3.11.7"
  },
  "toc": {
   "base_numbering": 1,
   "nav_menu": {},
   "number_sections": true,
   "sideBar": true,
   "skip_h1_title": false,
   "title_cell": "Table of Contents",
   "title_sidebar": "Contents",
   "toc_cell": false,
   "toc_position": {},
   "toc_section_display": true,
   "toc_window_display": false
  }
 },
 "nbformat": 4,
 "nbformat_minor": 4
}
